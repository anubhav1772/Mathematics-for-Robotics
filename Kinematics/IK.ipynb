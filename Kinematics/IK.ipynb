{
 "cells": [
  {
   "cell_type": "markdown",
   "id": "56f8d9d5-f2f5-47da-ade6-81786c95bd00",
   "metadata": {},
   "source": [
    "<font size=\"5\" color=\"yellow\">\n",
    "Inverse Kinematics\n",
    "</font>\n",
    "\n",
    "\n",
    "\n",
    "<font size=\"2.5\">\n",
    "<p>The inverse kinematics (IK) represents calculation of the configuration of the robot given the coordinates of the tool frame (its position and\n",
    "orientation).\n",
    "</p>\n",
    "<ol>\n",
    "<li>Solve forward kinematics</li>\n",
    "<li>Calculate the coordinates of the intersection between the rotation axes given the coordinated of the tool</li>\n",
    "<li>Solve position IK and get $\\theta_1$ , $\\theta_2$ and $\\theta_3$</li>\n",
    "<li>Calculate $R^{0}_{3}$ from forward kinematics</li>\n",
    "<li>Calculate matrix $R^{3}_{6}$</li>\n",
    "</ol>\n",
    "</font>"
   ]
  },
  {
   "cell_type": "code",
   "execution_count": 1,
   "id": "acb8dd0f-cfc1-4434-b60f-354bd5d7c6e2",
   "metadata": {},
   "outputs": [],
   "source": [
    "import numpy as np\n",
    "import math"
   ]
  },
  {
   "cell_type": "code",
   "execution_count": 2,
   "id": "c39dd2d7-190e-4775-9687-6f378ea47849",
   "metadata": {},
   "outputs": [],
   "source": [
    "a2 = 1\n",
    "d1, d4, d6 = 1, 1, 1\n",
    "theta = [np.pi/3, np.pi/2, np.pi/4, np.pi/3, 0, np.pi]\n",
    "params = np.array([[0, a2, 0, 0, 0, 0], \n",
    "                  [np.pi/2, 0, np.pi/2, -np.pi/2, np.pi/2, 0], \n",
    "                  [d1, 0, 0, d4, 0, d6], \n",
    "                  [theta[0], theta[1], theta[2] + np.pi/2, theta[3], theta[4], theta[5]]])"
   ]
  },
  {
   "cell_type": "code",
   "execution_count": 3,
   "id": "2f14fb9d-7de7-4e70-9a3f-18ae455af2fa",
   "metadata": {},
   "outputs": [
    {
     "data": {
      "text/plain": [
       "array([[ 0.        ,  1.        ,  0.        ,  0.        ,  0.        ,\n",
       "         0.        ],\n",
       "       [ 1.57079633,  0.        ,  1.57079633, -1.57079633,  1.57079633,\n",
       "         0.        ],\n",
       "       [ 1.        ,  0.        ,  0.        ,  1.        ,  0.        ,\n",
       "         1.        ],\n",
       "       [ 1.04719755,  1.57079633,  2.35619449,  1.04719755,  0.        ,\n",
       "         3.14159265]])"
      ]
     },
     "execution_count": 3,
     "metadata": {},
     "output_type": "execute_result"
    }
   ],
   "source": [
    "params"
   ]
  },
  {
   "cell_type": "code",
   "execution_count": 4,
   "id": "3124c7f0-bd54-4c52-b9d4-2263a83dba10",
   "metadata": {},
   "outputs": [],
   "source": [
    "def homo_trans_mat(a:float, alpha:float, d:float, theta:float) -> np.ndarray:\n",
    "    '''compute homogeneous transformation matrix of ith link w.r.t. (i-1)th link based on DH parameters table\n",
    "    '''\n",
    "    c_theta = 0 if (theta == np.pi/2 or theta == -np.pi/2) else np.cos(theta)\n",
    "    c_alpha = 0 if (alpha == np.pi/2 or alpha == -np.pi/2) else np.cos(alpha)\n",
    "    \n",
    "    return np.array([[c_theta, -np.sin(theta)*c_alpha, np.sin(theta)*np.sin(alpha), a*c_theta], \n",
    "                     [np.sin(theta), c_theta*c_alpha, -c_theta*np.sin(alpha), a*np.sin(theta)], \n",
    "                     [0, np.sin(alpha), c_alpha, d], \n",
    "                     [0, 0, 0, 1]])"
   ]
  },
  {
   "cell_type": "code",
   "execution_count": 5,
   "id": "34698903-cea0-4b07-a049-ae55ac037c2c",
   "metadata": {},
   "outputs": [
    {
     "data": {
      "text/plain": [
       "array([[ 0.5      , -0.       ,  0.8660254,  0.       ],\n",
       "       [ 0.8660254,  0.       , -0.5      ,  0.       ],\n",
       "       [ 0.       ,  1.       ,  0.       ,  1.       ],\n",
       "       [ 0.       ,  0.       ,  0.       ,  1.       ]])"
      ]
     },
     "execution_count": 5,
     "metadata": {},
     "output_type": "execute_result"
    }
   ],
   "source": [
    "homo_trans_mat(params[:, 0][0], params[:, 0][1], params[:, 0][2], params[:, 0][3])"
   ]
  },
  {
   "cell_type": "code",
   "execution_count": 6,
   "id": "1b5ecbba-c11b-48e1-8b59-4bb84b47c922",
   "metadata": {},
   "outputs": [],
   "source": [
    "def cal_homo_trans_mat_0_to_n(n:int) -> np.ndarray:\n",
    "    '''calculate homogeneous transformation matrix of nth frame w.r.t. base(0th frame)\n",
    "    '''\n",
    "    T = np.eye(4)\n",
    "    for i in range(n):\n",
    "        T = T @ homo_trans_mat(params[:, i][0], params[:, i][1], params[:, i][2], params[:, i][3])\n",
    "    return T"
   ]
  },
  {
   "cell_type": "code",
   "execution_count": 7,
   "id": "d5ba7d86-6a8b-4e80-b087-b3a89eebd3bc",
   "metadata": {},
   "outputs": [
    {
     "data": {
      "text/plain": [
       "array([[-0.5732233 , -0.73919892, -0.35355339, -0.70710678],\n",
       "       [ 0.73919892, -0.28033009, -0.61237244, -1.22474487],\n",
       "       [ 0.35355339, -0.61237244,  0.70710678,  3.41421356],\n",
       "       [ 0.        ,  0.        ,  0.        ,  1.        ]])"
      ]
     },
     "execution_count": 7,
     "metadata": {},
     "output_type": "execute_result"
    }
   ],
   "source": [
    "cal_homo_trans_mat_0_to_n(6)"
   ]
  },
  {
   "cell_type": "code",
   "execution_count": 8,
   "id": "73198742-bfef-470b-b4ac-85ab7b4de52c",
   "metadata": {},
   "outputs": [
    {
     "data": {
      "text/plain": [
       "array([[-0.35355339,  0.8660254 , -0.35355339,  0.        ],\n",
       "       [-0.61237244, -0.5       , -0.61237244,  0.        ],\n",
       "       [-0.70710678,  0.        ,  0.70710678,  2.        ],\n",
       "       [ 0.        ,  0.        ,  0.        ,  1.        ]])"
      ]
     },
     "execution_count": 8,
     "metadata": {},
     "output_type": "execute_result"
    }
   ],
   "source": [
    "cal_homo_trans_mat_0_to_n(3)"
   ]
  },
  {
   "cell_type": "code",
   "execution_count": 9,
   "id": "dbda61cb-a32b-4151-b3bc-cc439e63b79c",
   "metadata": {},
   "outputs": [
    {
     "data": {
      "text/plain": [
       "array([[-0.35355339,  0.8660254 , -0.35355339],\n",
       "       [-0.61237244, -0.5       , -0.61237244],\n",
       "       [-0.70710678,  0.        ,  0.70710678]])"
      ]
     },
     "execution_count": 9,
     "metadata": {},
     "output_type": "execute_result"
    }
   ],
   "source": [
    "cal_homo_trans_mat_0_to_n(3)[:3, :3]"
   ]
  },
  {
   "cell_type": "markdown",
   "id": "82118ab4-1e3d-4b6d-8e34-7f31edcaf6af",
   "metadata": {},
   "source": [
    "<table>\n",
    "  <tr>\n",
    "    <td><font size=\"5\" color=\"yellow\">\n",
    "Inverse Kinematics: Position IK\n",
    "</font></td>\n",
    "  </tr>\n",
    "  <tr>\n",
    "    <td>\n",
    "        <img src=\"images/kinematic_decoupling.png\" width = \"600\" height = \"300\"/> \n",
    "    </td>\n",
    "  </tr>\n",
    "<tr>\n",
    "    <td>\n",
    "        <img src=\"images/ik/1.png\" width = \"200\" height = \"150\"/> \n",
    "        <img src=\"images/ik/2.png\" width = \"200\" height = \"150\"/> </td>\n",
    "  </tr>\n",
    "</table>"
   ]
  },
  {
   "cell_type": "markdown",
   "id": "57b9f280-ab56-4692-ab5b-9df00ea72ba2",
   "metadata": {},
   "source": [
    "<table>\n",
    "    <tr>\n",
    "        <td><img src=\"images/vecC.png\" width = \"600\" height = \"300\"/></td> \n",
    "    </tr>\n",
    "    <tr>\n",
    "        <td>\n",
    "            <img src=\"images/ik/3.png\" width = \"600\" height = \"300\"/> \n",
    "        </td>\n",
    "  </tr>\n",
    "</table>"
   ]
  },
  {
   "cell_type": "markdown",
   "id": "5d10ebce-76e8-4bd9-a516-db8a6c6f7319",
   "metadata": {},
   "source": [
    "<table>\n",
    "  <tr>\n",
    "    <td>\n",
    "       <td><img src=\"images/vecA_B.png\" width = \"300\" height = \"100\"/></td> \n",
    "    </td>\n",
    "  </tr>\n",
    "<tr>\n",
    "    <td><img src=\"images/ik/4.png\" width = \"600\" height = \"300\"/> </td>\n",
    "    <td><img src=\"images/ik/5.png\" width = \"600\" height = \"300\"/> </td>\n",
    "    <td><img src=\"images/ik/6.png\" width = \"600\" height = \"300\"/> </td>\n",
    "  </tr>\n",
    " </table>"
   ]
  },
  {
   "cell_type": "markdown",
   "id": "1d30a972-0173-45c7-b99d-b894b2cc6824",
   "metadata": {},
   "source": [
    "<table>\n",
    "  <tr>\n",
    "    <td><img src=\"images/ik/7.png\" width = \"600\" height = \"300\"/> </td>\n",
    "  </tr>\n",
    " </table>"
   ]
  },
  {
   "cell_type": "markdown",
   "id": "63a8932a-b0d7-436f-9102-700fe210fd1f",
   "metadata": {},
   "source": [
    "<table>\n",
    "  <tr>\n",
    "    <td><font size=\"5\" color=\"yellow\">\n",
    "Inverse Kinematics: Orientation IK\n",
    "</font></td>\n",
    "  </tr>\n",
    "<tr>\n",
    "    <td>\n",
    "        <img src=\"images/ik/8.png\" width = \"500\" height = \"250\"/> \n",
    "  </tr>\n",
    "<tr>\n",
    "    <td>\n",
    "        <img src=\"images/ik/9.png\" width = \"500\" height = \"250\"/> \n",
    "  </tr>\n",
    "<tr>\n",
    "    <td>\n",
    "        <img src=\"images/ik/10.png\" width = \"500\" height = \"250\"/> \n",
    "  </tr>\n",
    "<tr>\n",
    "    <td>\n",
    "        <img src=\"images/ik/11.png\" width = \"300\" height = \"150\"/> \n",
    "  </tr>\n",
    "</table>"
   ]
  },
  {
   "cell_type": "code",
   "execution_count": 10,
   "id": "bc58869f-7c8d-4774-a652-9d43489807c2",
   "metadata": {},
   "outputs": [],
   "source": [
    "def inv_kinematics(eef_pose):\n",
    "    '''Compute joint velocities based on the robot's end-effector pose (x, y, z, phi, theta, psi)\n",
    "    '''\n",
    "    x, y, z, phi, theta, psi = eef_pose # EULER ANGLES (Z(phi)-Y(theta)-Z(psi))\n",
    "\n",
    "    print(\"End-Effector Pose: [\" + str(x) + \" \" + str(y) + \" \" + str(z) + \" \" + str(phi) + \" \" + str(theta) + \" \" + str(psi) + \"]\")\n",
    "\n",
    "    q = np.zeros(6)\n",
    "\n",
    "    # p_06 = p_04 + d6*R_06@[0 0 1]^T\n",
    "    p_06 = np.array([x, y, z])\n",
    "    \n",
    "    d6 = params[2, :][5]\n",
    "    R_06 = np.array([[np.cos(phi), -np.sin(phi), 0], [np.sin(phi), np.cos(phi), 0], [0, 0, 1]]) \\\n",
    "            @ np.array([[np.cos(theta), 0, np.sin(theta)], [0, 1, 0], [-np.sin(theta), 0, np.cos(theta)]]) \\\n",
    "            @ np.array([[np.cos(psi), -np.sin(psi), 0], [np.sin(psi), np.cos(psi), 0], [0, 0, 1]]) # EULER ANGLES (Z(phi)-Y(theta)-Z(psi))\n",
    "    p_04 = p_06 - d6 * R_06 @ np.array([0, 0, 1])\n",
    "\n",
    "    x_04, y_04, z_04 = p_04\n",
    "\n",
    "    # Joint 1 angle \n",
    "    q[0] = np.arctan2(y_04, x_04) # it can also be (np.arctan2(y_04, x_04) + pi)\n",
    "    \n",
    "    # print((b*b + c - a2*a2 - d4*d4) / (2*a2*d4))\n",
    "    cos_q3 = ((z_04 - params[2,:][0])**2 + x_04**2 + y_04**2 - params[0,:][1]**2 - params[2,:][3]**2) \\\n",
    "            / (2 * params[0,:][1] * params[2,:][3])\n",
    "    \n",
    "    # Joint 3 angle\n",
    "    if np.isclose(cos_q3, 1):\n",
    "        q[2] = 0\n",
    "        q[1] = np.arctan2(z_04 - params[2,:][0], np.sqrt(x_04**2 + y_04**2))\n",
    "    elif np.isclose(cos_q3, -1):\n",
    "        q[2] = np.pi\n",
    "    elif abs(cos_q3) < 1:\n",
    "        q[2] = np.arctan2(np.sqrt(1 - cos_q3**2), cos_q3)\n",
    "\n",
    "    alpha = np.arctan2((z_04 - params[2,:][0]), np.sqrt(x_04**2 + y_04**2)) # angle α formed by a and c\n",
    "    beta = np.arctan2(params[2,:][3]*np.sin(q[2]), (params[0,:][1] + params[2,:][3]*np.cos(q[2])))  # angle β formed by a and a2\n",
    "    # Joint 2 angle\n",
    "    q[1] = alpha - beta\n",
    "\n",
    "\n",
    "    T_01 = homo_trans_mat(params[:, 0][0], params[:, 0][1], params[:, 0][2], q[0])\n",
    "    T_12 = homo_trans_mat(params[:, 1][0], params[:, 1][1], params[:, 1][2], q[1])\n",
    "    T_23 = homo_trans_mat(params[:, 2][0], params[:, 2][1], params[:, 2][2], q[2] + np.pi/2)\n",
    "\n",
    "    T_02 = T_01 @ T_12\n",
    "    T_03 = T_02 @ T_23\n",
    "\n",
    "    R_03 = T_03[:3, :3]\n",
    "    R_36 = R_03.T @ R_06\n",
    "\n",
    "    if (abs(R_36[2][2]) < 1):\n",
    "        sin_thetaQ = np.sqrt(1 - R_36[2][2]**2)\n",
    "    \n",
    "        phi = np.arctan2(R_36[1][2], R_36[0][2])\n",
    "        theta = np.arctan2(sin_thetaQ, R_36[2][2])\n",
    "        psi = np.arctan2(R_36[2][1], -R_36[2][0])\n",
    "    elif R_36[2][2] == 1:\n",
    "        phi = 0\n",
    "        theta = 0\n",
    "        psi = np.arctan2(R_36[1][0], R_36[0][0])\n",
    "    elif R_36[2][2] == -1:\n",
    "        phi = np.arctan2(-R_36[0][1], -R_36[0][0])\n",
    "        theta = np.pi\n",
    "        psi = 0\n",
    "\n",
    "    # Joint angle 4\n",
    "    q[3] = phi\n",
    "    # Joint angle 5\n",
    "    q[4] = theta\n",
    "    # Joint angle 6\n",
    "    q[5] = psi\n",
    "\n",
    "    return q   "
   ]
  },
  {
   "cell_type": "code",
   "execution_count": 11,
   "id": "d657643a-a699-44d3-80bd-5afce156d3d5",
   "metadata": {},
   "outputs": [],
   "source": [
    "eef_pose_1 = [2.422663680622242,0.05544267656769389,2.4863534126490863,-0.22263396888436274,0.6296077413830932, -1.9223913750523003]"
   ]
  },
  {
   "cell_type": "code",
   "execution_count": 12,
   "id": "87184dc9-6478-4c86-9fae-f4282a6ce131",
   "metadata": {},
   "outputs": [
    {
     "name": "stdout",
     "output_type": "stream",
     "text": [
      "End-Effector Pose: [2.422663680622242 0.05544267656769389 2.4863534126490863 -0.22263396888436274 0.6296077413830932 -1.9223913750523003]\n"
     ]
    },
    {
     "data": {
      "text/plain": [
       "array([0.1, 0.2, 0.3, 0.4, 0.5, 0.6])"
      ]
     },
     "execution_count": 12,
     "metadata": {},
     "output_type": "execute_result"
    }
   ],
   "source": [
    "inv_kinematics(eef_pose_1)"
   ]
  },
  {
   "cell_type": "code",
   "execution_count": 13,
   "id": "1301b2a5-6196-465b-8154-a5dbd9729694",
   "metadata": {},
   "outputs": [
    {
     "name": "stdout",
     "output_type": "stream",
     "text": [
      "End-Effector Pose: [2.42266368 0.05544268 2.48635341 -0.22263397 0.62960774 -1.92239138]\n",
      "[0.1        0.2        0.3        0.4        0.5        0.59999999]\n"
     ]
    }
   ],
   "source": [
    "eef_pose = [2.42266368, 0.05544268, 2.48635341, -0.22263397, 0.62960774, -1.92239138]\n",
    "joint_angles = inv_kinematics(eef_pose)\n",
    "print(joint_angles)"
   ]
  },
  {
   "cell_type": "code",
   "execution_count": null,
   "id": "f31c3f0f-2b92-4ff8-aee9-63903abfaaab",
   "metadata": {},
   "outputs": [],
   "source": []
  },
  {
   "cell_type": "code",
   "execution_count": null,
   "id": "c0b06d53-6f46-4fca-8b48-98af8c8ccdb3",
   "metadata": {},
   "outputs": [],
   "source": []
  },
  {
   "cell_type": "code",
   "execution_count": null,
   "id": "12bcb065-e155-4558-92a7-530888770cb1",
   "metadata": {},
   "outputs": [],
   "source": []
  },
  {
   "cell_type": "code",
   "execution_count": null,
   "id": "0e995c1a-8859-49a2-a278-a863ca11ad4d",
   "metadata": {},
   "outputs": [],
   "source": []
  },
  {
   "cell_type": "code",
   "execution_count": null,
   "id": "9ab70925-e872-425b-a543-9108d4ed9380",
   "metadata": {},
   "outputs": [],
   "source": []
  },
  {
   "cell_type": "code",
   "execution_count": null,
   "id": "2ba1af99-93c9-4595-a73e-abbc078b0108",
   "metadata": {},
   "outputs": [],
   "source": []
  },
  {
   "cell_type": "code",
   "execution_count": null,
   "id": "3e68813a-6e30-4b6d-8d4a-0af3ffb90b71",
   "metadata": {},
   "outputs": [],
   "source": []
  },
  {
   "cell_type": "code",
   "execution_count": null,
   "id": "0480c25f-df81-45d3-8033-d02f2996b857",
   "metadata": {},
   "outputs": [],
   "source": []
  },
  {
   "cell_type": "code",
   "execution_count": null,
   "id": "f84eaac7-28d1-4def-9f5e-609afaaaa176",
   "metadata": {},
   "outputs": [],
   "source": []
  },
  {
   "cell_type": "code",
   "execution_count": null,
   "id": "c378a786-c583-4e97-900d-59ed47a79cd1",
   "metadata": {},
   "outputs": [],
   "source": []
  },
  {
   "cell_type": "code",
   "execution_count": null,
   "id": "01014e83-2691-4588-bd72-07e256626341",
   "metadata": {},
   "outputs": [],
   "source": []
  },
  {
   "cell_type": "code",
   "execution_count": null,
   "id": "68919a86-02ec-436c-b675-0cdf46839971",
   "metadata": {},
   "outputs": [],
   "source": []
  },
  {
   "cell_type": "code",
   "execution_count": null,
   "id": "9a25fe45-9abf-42db-8fd7-1ca02932b17b",
   "metadata": {},
   "outputs": [],
   "source": []
  },
  {
   "cell_type": "code",
   "execution_count": null,
   "id": "3173711d-3946-434a-ad41-6b2c828022e9",
   "metadata": {},
   "outputs": [],
   "source": []
  },
  {
   "cell_type": "code",
   "execution_count": null,
   "id": "a6d4cd78-9b7c-482b-8de7-aa22384836af",
   "metadata": {},
   "outputs": [],
   "source": []
  },
  {
   "cell_type": "code",
   "execution_count": null,
   "id": "2b03143e-b710-4226-ae8c-d3c9cd9c6e5f",
   "metadata": {},
   "outputs": [],
   "source": []
  },
  {
   "cell_type": "code",
   "execution_count": null,
   "id": "6dce1572-0544-492c-96af-326bdce3dc20",
   "metadata": {},
   "outputs": [],
   "source": []
  },
  {
   "cell_type": "code",
   "execution_count": null,
   "id": "0527393e-1a6c-4ee8-aefe-1c13d72c3db4",
   "metadata": {},
   "outputs": [],
   "source": []
  },
  {
   "cell_type": "code",
   "execution_count": null,
   "id": "b6a1ab91-2101-45c0-8b0b-1fcf32f5611e",
   "metadata": {},
   "outputs": [],
   "source": []
  },
  {
   "cell_type": "code",
   "execution_count": null,
   "id": "1da7adc6-7dba-42f4-b427-548be6c77d6d",
   "metadata": {},
   "outputs": [],
   "source": []
  },
  {
   "cell_type": "code",
   "execution_count": null,
   "id": "6d7a35b0-5255-49cb-94dc-ab9326110728",
   "metadata": {},
   "outputs": [],
   "source": []
  },
  {
   "cell_type": "code",
   "execution_count": null,
   "id": "7624cc24-db23-4bdb-b4da-5197cc7b69ec",
   "metadata": {},
   "outputs": [],
   "source": []
  },
  {
   "cell_type": "code",
   "execution_count": null,
   "id": "a3593eab-707c-43b3-b887-6c627e5d4f4e",
   "metadata": {},
   "outputs": [],
   "source": []
  },
  {
   "cell_type": "code",
   "execution_count": null,
   "id": "382ceb6b-c56f-403e-9371-283eb2c31d00",
   "metadata": {},
   "outputs": [],
   "source": []
  },
  {
   "cell_type": "code",
   "execution_count": 60,
   "id": "18d85c7f-af65-45aa-8021-027194f77ed2",
   "metadata": {},
   "outputs": [],
   "source": [
    "# def homo_trans_mat(a, alpha, d, q):\n",
    "#     c_q = 0 if (q == np.pi/2 or q == -np.pi/2) else np.cos(q)\n",
    "#     alpha_q = 0 if (alpha == np.pi/2 or alpha == -np.pi/2) else np.cos(alpha)\n",
    "\n",
    "#     T1 = np.array([\n",
    "#         [c_q, -np.sin(q), 0, 0],\n",
    "#         [np.sin(q), c_q, 0, 0],\n",
    "#         [0, 0, 1, 0],\n",
    "#         [0, 0, 0, 1]\n",
    "#     ])\n",
    "\n",
    "#     T2 = np.block([\n",
    "#         [np.eye(3), np.array([[0], [0], [d]])],\n",
    "#         [np.zeros((1, 3)), 1]\n",
    "#     ])\n",
    "\n",
    "#     T3 = np.block([\n",
    "#         [np.eye(3), np.array([[a], [0], [0]])],\n",
    "#         [np.zeros((1, 3)), 1]\n",
    "#     ])\n",
    "\n",
    "#     T4 = np.array([\n",
    "#         [1, 0, 0, 0],\n",
    "#         [0, alpha_q, -np.sin(alpha), 0],\n",
    "#         [0, np.sin(alpha), alpha_q, 0],\n",
    "#         [0, 0, 0, 1]\n",
    "#     ])\n",
    "\n",
    "#     T = T1 @ T2 @ T3 @ T4\n",
    "\n",
    "#     return T "
   ]
  },
  {
   "cell_type": "code",
   "execution_count": 17,
   "id": "b171f7a1-30ec-41fb-84c2-2e43cc1be490",
   "metadata": {},
   "outputs": [],
   "source": [
    "def ht(q, d, a, alpha):\n",
    "    c_q = 0 if (q == np.pi/2 or q == -np.pi/2) else np.cos(q)\n",
    "    alpha_q = 0 if (alpha == np.pi/2 or alpha == -np.pi/2) else np.cos(alpha)\n",
    "\n",
    "    T1 = np.array([\n",
    "        [c_q, -np.sin(q), 0, 0],\n",
    "        [np.sin(q), c_q, 0, 0],\n",
    "        [0, 0, 1, 0],\n",
    "        [0, 0, 0, 1]\n",
    "    ])\n",
    "\n",
    "    T2 = np.block([\n",
    "        [np.eye(3), np.array([[0], [0], [d]])],\n",
    "        [np.zeros((1, 3)), 1]\n",
    "    ])\n",
    "\n",
    "    T3 = np.block([\n",
    "        [np.eye(3), np.array([[a], [0], [0]])],\n",
    "        [np.zeros((1, 3)), 1]\n",
    "    ])\n",
    "\n",
    "    T4 = np.array([\n",
    "        [1, 0, 0, 0],\n",
    "        [0, alpha_q, -np.sin(alpha), 0],\n",
    "        [0, np.sin(alpha), alpha_q, 0],\n",
    "        [0, 0, 0, 1]\n",
    "    ])\n",
    "\n",
    "    T = T1 @ T2 @ T3 @ T4\n",
    "\n",
    "    return T   "
   ]
  },
  {
   "cell_type": "code",
   "execution_count": 46,
   "id": "01fb3790-11e4-4819-bec4-97290748ef02",
   "metadata": {},
   "outputs": [],
   "source": [
    "def ik(xi):\n",
    "    x, y, z, phi, theta, psi = xi\n",
    "    \n",
    "    a = np.array([0, 1, 0, 0, 0, 0])\n",
    "    d = np.array([1, 0, 0, 1, 0, 1])\n",
    "    alpha = np.array([np.pi/2, 0, np.pi/2, -np.pi/2, np.pi/2, 0])\n",
    "\n",
    "    p06 = np.array([x, y, z])\n",
    "\n",
    "    R06 = (\n",
    "        np.array([\n",
    "            [np.cos(phi), -np.sin(phi), 0], \n",
    "            [np.sin(phi), np.cos(phi), 0], \n",
    "            [0, 0, 1]\n",
    "        ]) @ np.array([\n",
    "            [np.cos(theta), 0, np.sin(theta)], \n",
    "            [0, 1, 0], \n",
    "            [-np.sin(theta), 0, np.cos(theta)]\n",
    "        ]) @ np.array([\n",
    "            [np.cos(psi), -np.sin(psi), 0], \n",
    "            [np.sin(psi), np.cos(psi), 0], \n",
    "            [0, 0, 1]])\n",
    "    )\n",
    "\n",
    "    p04 = p06 - d[5] * R06 @ np.array([0, 0, 1])\n",
    "\n",
    "    xc, yc, zc = p04\n",
    "\n",
    "    q = [0] * 6\n",
    "    q[0] = np.arctan2(yc, xc)\n",
    "\n",
    "    cosq3 = ((zc - d[0])**2 + xc**2 + yc**2 - a[1]**2 - d[3]**2) / (2 * a[1] * d[3])\n",
    "\n",
    "    if np.isclose(cosq3, 1):\n",
    "        q[2] = 0\n",
    "        q[1] = np.arctan2(zc - d[0], np.sqrt(xc**2 + yc**2))\n",
    "    elif np.isclose(cosq3, -1):\n",
    "        q[2] = np.pi\n",
    "    elif abs(cosq3) < 1:\n",
    "        q[2] = np.arctan2(np.sqrt(1 - cosq3**2), cosq3)\n",
    "\n",
    "    q[1] = (np.arctan2(zc - d[0], np.sqrt(xc**2 + yc**2)) - np.arctan2(d[3] * np.sin(q[2]), a[1] + d[3] * np.cos(q[2])))\n",
    "\n",
    "    T01 = ht(q[0], d[0], a[0], alpha[0])\n",
    "    T12 = ht(q[1], d[1], a[1], alpha[1])\n",
    "    T23 = ht(q[2] + np.pi/2, d[2], a[2], alpha[2])\n",
    "\n",
    "    print(str(q[0])+' '+str(d[0])+' '+str(a[0])+' '+str(alpha[0]))\n",
    "    print(T01)\n",
    "    print(T12)\n",
    "    print(T23)\n",
    "\n",
    "    T02 = T01 @ T12\n",
    "    T03 = T02 @ T23\n",
    "\n",
    "    R03 = T03[:3, :3]\n",
    "    R36 = R03.T @ R06\n",
    "\n",
    "    R = R36\n",
    "\n",
    "    # print(R03)\n",
    "    # print(R36)\n",
    "\n",
    "    if abs(R[2, 2]) < 1: \n",
    "        phi = np.arctan2(R[1, 2], R[0, 2])\n",
    "        theta = np.arctan2(np.sqrt(1 - R[2, 2]**2), R[2, 2])\n",
    "        psi = np.arctan2(R[2, 1], -R[2, 0])\n",
    "    elif R[2, 2] == 1:\n",
    "        phi = 0\n",
    "        theta = 0\n",
    "        psi = np.arctan2(R[1, 0], R[0, 0])\n",
    "    elif R[2, 2] == -1:\n",
    "        phi = np.arctan2(-R[0, 1], -R[0, 0])\n",
    "        theta = np.pi\n",
    "        psi = 0\n",
    "\n",
    "    # Joint angle 4\n",
    "    q[3] = phi\n",
    "    # Joint angle 5\n",
    "    q[4] = theta\n",
    "    # Joint angle 6\n",
    "    q[5] = psi\n",
    "\n",
    "    return np.array(q) "
   ]
  },
  {
   "cell_type": "code",
   "execution_count": 47,
   "id": "9a81f8f0-c23d-41d8-96e5-93d15ae12218",
   "metadata": {},
   "outputs": [
    {
     "name": "stdout",
     "output_type": "stream",
     "text": [
      "0.1000000020164498 1 0 1.5707963267948966\n",
      "[[ 0.99500417  0.          0.09983342  0.        ]\n",
      " [ 0.09983342  0.         -0.99500417  0.        ]\n",
      " [ 0.          1.          0.          1.        ]\n",
      " [ 0.          0.          0.          1.        ]]\n",
      "[[ 0.98006658 -0.19866933  0.          0.98006658]\n",
      " [ 0.19866933  0.98006658  0.          0.19866933]\n",
      " [ 0.          0.          1.          0.        ]\n",
      " [ 0.          0.          0.          1.        ]]\n",
      "[[-0.29552021  0.          0.95533649  0.        ]\n",
      " [ 0.95533649  0.          0.29552021  0.        ]\n",
      " [ 0.          1.          0.          0.        ]\n",
      " [ 0.          0.          0.          1.        ]]\n",
      "[0.1        0.2        0.3        0.4        0.5        0.59999999]\n"
     ]
    }
   ],
   "source": [
    "xi = [2.42266368, 0.05544268, 2.48635341, -0.22263397, 0.62960774, -1.92239138]\n",
    "ans = ik(xi)\n",
    "print(ans)"
   ]
  },
  {
   "cell_type": "code",
   "execution_count": null,
   "id": "4cf493e1-df5a-45ef-b541-407826d97c06",
   "metadata": {},
   "outputs": [],
   "source": [
    "[[-0.35355339  0.8660254  -0.35355339]\n",
    " [-0.61237244 -0.5        -0.61237244]\n",
    " [-0.70710678  0.          0.70710678]]\n",
    "[[-5.00000000e-01  8.66025404e-01  1.01465364e-17]\n",
    " [-8.66025404e-01 -5.00000000e-01  1.24758465e-17]\n",
    " [-9.31020989e-17 -1.63515442e-17  1.00000000e+00]]"
   ]
  }
 ],
 "metadata": {
  "kernelspec": {
   "display_name": "Python 3 (ipykernel)",
   "language": "python",
   "name": "python3"
  },
  "language_info": {
   "codemirror_mode": {
    "name": "ipython",
    "version": 3
   },
   "file_extension": ".py",
   "mimetype": "text/x-python",
   "name": "python",
   "nbconvert_exporter": "python",
   "pygments_lexer": "ipython3",
   "version": "3.10.12"
  }
 },
 "nbformat": 4,
 "nbformat_minor": 5
}
