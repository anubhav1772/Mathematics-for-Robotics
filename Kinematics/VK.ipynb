{
 "cells": [
  {
   "cell_type": "markdown",
   "id": "b53c5964-f351-453c-8878-c6aaff546ea2",
   "metadata": {},
   "source": [
    "<font size=\"3\" color=\"yellow\">  \n",
    "Construct the Jacobian matrix for the 6DoF manipulator.\n",
    "</font>"
   ]
  },
  {
   "cell_type": "code",
   "execution_count": 1,
   "id": "a908e715-e2bf-4424-b07a-db31e4bb5833",
   "metadata": {},
   "outputs": [],
   "source": [
    "import numpy as np\n",
    "import math\n",
    "import sympy as sp"
   ]
  },
  {
   "cell_type": "code",
   "execution_count": 2,
   "id": "30703493-fb88-483e-9d37-3d271d280211",
   "metadata": {},
   "outputs": [],
   "source": [
    "def symht(a, alpha, d, q):\n",
    "    \"\"\"\n",
    "    Calculate Homegeneous Transformation Matrix of nth frame w.r.t. base(0th frame)\n",
    "    \"\"\"\n",
    "    c_q = sp.cos(q)\n",
    "    s_q = sp.sin(q)\n",
    "    c_alpha = sp.cos(alpha)\n",
    "    s_alpha = sp.sin(alpha)\n",
    "\n",
    "    T = sp.Matrix([\n",
    "        [c_q, -s_q * c_alpha, s_q * s_alpha, a * c_q],\n",
    "        [s_q, c_q * c_alpha, -c_q * s_alpha, a * s_q],\n",
    "        [0, s_alpha, c_alpha, d],\n",
    "        [0, 0, 0, 1]\n",
    "    ])\n",
    "    return T"
   ]
  },
  {
   "cell_type": "markdown",
   "id": "54d7dd06-cf6a-4b22-915d-afffb64664b6",
   "metadata": {},
   "source": [
    "<table>\n",
    "    <tr>\n",
    "        <td><img src=\"images/jacobian.png\" width = \"600\" height = \"300\"/></td>\n",
    "    </tr>\n",
    "</table>"
   ]
  },
  {
   "cell_type": "code",
   "execution_count": 3,
   "id": "5dea306f-1619-4f51-8088-d93650d46857",
   "metadata": {},
   "outputs": [],
   "source": [
    "def cal_jacobian_mat(q) -> np.ndarray:\n",
    "    \"\"\"\n",
    "    Compute the Jacobian Matrix\n",
    "    \n",
    "    :param q: list of joint angles (in rad)\n",
    "    :type params: numpy.ndarray\n",
    "    :return J: Jacobian Matrix\n",
    "    :rtype: numpy.ndarray\n",
    "    \"\"\"\n",
    "    # Define symbolic variables\n",
    "    q1, q2, q3, q4, q5, q6 = sp.symbols('q1 q2 q3 q4 q5 q6')\n",
    "    q_sym = [q1, q2, q3, q4, q5, q6]\n",
    "\n",
    "    a = [0, 1, 0, 0, 0, 0]\n",
    "    d = [1, 0, 0, 1, 0, 1]\n",
    "    alpha = [sp.pi/2, 0, sp.pi/2, -sp.pi/2, sp.pi/2, 0]\n",
    "\n",
    "    # Compute transformation matrices\n",
    "    T00 = sp.eye(4)\n",
    "    T01 = symht(q1, d[0], a[0], alpha[0])\n",
    "    T12 = symht(q2, d[1], a[1], alpha[1])\n",
    "    T23 = symht(q3 + sp.pi/2, d[2], a[2], alpha[2])\n",
    "    T34 = symht(q4, d[3], a[3], alpha[3])\n",
    "    T45 = symht(q5, d[4], a[4], alpha[4])\n",
    "    T56 = symht(q6, d[5], a[5], alpha[5])\n",
    "\n",
    "    T02 = T01 * T12\n",
    "    T03 = T02 * T23\n",
    "    T04 = T03 * T34\n",
    "    T05 = T04 * T45\n",
    "    T06 = T05 * T56\n",
    "\n",
    "    # Extract z vectors for rotation axes\n",
    "    z0 = T00[0:3, 2]\n",
    "    z1 = T01[0:3, 2]\n",
    "    z2 = T02[0:3, 2]\n",
    "    z3 = T03[0:3, 2]\n",
    "    z4 = T04[0:3, 2]\n",
    "    z5 = T05[0:3, 2]\n",
    "\n",
    "    # Compute position vectors\n",
    "    p06 = T06[0:3, 3]\n",
    "\n",
    "    # Compute Jacobian columns\n",
    "    j1 = sp.Matrix.vstack(sp.diff(p06, q1), z0)\n",
    "    j2 = sp.Matrix.vstack(sp.diff(p06, q2), z1)\n",
    "    j3 = sp.Matrix.vstack(sp.diff(p06, q3), z2)\n",
    "    j4 = sp.Matrix.vstack(sp.diff(p06, q4), z3)\n",
    "    j5 = sp.Matrix.vstack(sp.diff(p06, q5), z4)\n",
    "    j6 = sp.Matrix.vstack(sp.diff(p06, q6), z5)\n",
    "\n",
    "    # Assemble Jacobian Matrix\n",
    "    J = sp.Matrix.hstack(j1, j2, j3, j4, j5, j6)\n",
    "\n",
    "    # Substitute numerical values of joint angles\n",
    "    J_numeric = J.subs({q_sym[i]: q[i] for i in range(6)})\n",
    "\n",
    "    # Convert symbolic Jacobian to numeric\n",
    "    J_numeric = np.array(J_numeric).astype(np.float64)\n",
    "\n",
    "    return J_numeric"
   ]
  },
  {
   "cell_type": "code",
   "execution_count": 4,
   "id": "4651807e-5923-4a09-aecc-e54328c1da44",
   "metadata": {},
   "outputs": [
    {
     "name": "stdout",
     "output_type": "stream",
     "text": [
      "[[ 0.          0.         -0.54030231  0.          0.41614684  0.41614684]\n",
      " [ 1.          1.          0.          1.          0.          0.        ]\n",
      " [ 0.          0.          0.84147098  0.          0.90929743  0.90929743]\n",
      " [ 0.          0.84147098  0.84147098  0.84147098  0.90929743  0.90929743]\n",
      " [ 0.          0.          0.          0.          0.          0.        ]\n",
      " [ 1.          0.54030231  0.54030231  0.54030231 -0.41614684 -0.41614684]]\n"
     ]
    }
   ],
   "source": [
    "q_values = [0.1, np.pi/2, 0.3, np.pi/2, 0.5, 0.6]\n",
    "J = cal_jacobian_mat(q_values)\n",
    "print(J)"
   ]
  },
  {
   "cell_type": "markdown",
   "id": "c6f56122-ba5d-4647-b4fe-9c3ac6cf0cc0",
   "metadata": {},
   "source": [
    "<font size=\"3\" color=\"yellow\">\n",
    "Forward velocity kinematics\n",
    "</font>\n",
    "\n",
    "\n",
    "\n",
    "(Given joint velocities, compute end-effector velocity, i.e., linear and angular velocities)\n",
    "\n",
    "$\\dot{x} = J\\dot{q}$"
   ]
  },
  {
   "cell_type": "code",
   "execution_count": 5,
   "id": "33545fc6-f64c-4ee8-abaf-5eb26571a71b",
   "metadata": {},
   "outputs": [],
   "source": [
    "qd = np.array([0.1, 0.2, -0.1, 0.3, 0.0, 0.2])"
   ]
  },
  {
   "cell_type": "code",
   "execution_count": 6,
   "id": "8caee234-cf0d-437c-ab9c-29c7dff8301b",
   "metadata": {},
   "outputs": [],
   "source": [
    "xd = J @ qd.T"
   ]
  },
  {
   "cell_type": "code",
   "execution_count": 7,
   "id": "97fefbf7-a4df-4216-976f-3a83f6f1d6e6",
   "metadata": {},
   "outputs": [
    {
     "data": {
      "text/plain": [
       "array([0.1372596 , 0.6       , 0.09771239, 0.51844788, 0.        ,\n",
       "       0.23289156])"
      ]
     },
     "execution_count": 7,
     "metadata": {},
     "output_type": "execute_result"
    }
   ],
   "source": [
    "xd"
   ]
  },
  {
   "cell_type": "markdown",
   "id": "5c3cc384-d738-42e1-967b-64a8377eb636",
   "metadata": {},
   "source": [
    "<font size=\"3\" color=\"yellow\">\n",
    "Inverse velocity kinematics\n",
    "</font>\n",
    "\n",
    "(Given desired end-effector velocity, compute joint velocities)\n",
    "\n",
    "$\\dot{q} = J^{+}\\dot{x}$, where $J^{+} = J^{T}(JJ^{T})^{-1}$ is the Moore-Penrose pseudoinverse of matrix J."
   ]
  },
  {
   "cell_type": "code",
   "execution_count": 8,
   "id": "59da5233-194d-4cec-bf96-d24781497a22",
   "metadata": {},
   "outputs": [],
   "source": [
    "def inv_jacob(q):\n",
    "    \"\"\"\n",
    "    Compute Inverse Jacobian Matrix.\n",
    "\n",
    "    If the Jacobian Matrix is singular, then it computes Moore-Penrose pseudoinverse of matrix J in place of simple inverse of J \n",
    "    \"\"\"\n",
    "    J = cal_jacobian_mat(q)\n",
    "    if J.shape[0] == J.shape[1] and np.linalg.det(J) != 0:\n",
    "        J_inv = np.linalg.inv(J)\n",
    "    else:\n",
    "        print(\"The Jacobian Matrix is singular. Using Moore-Penrose pseudoinverse of matrix J!\")\n",
    "        J_inv = np.linalg.pinv(J)\n",
    "\n",
    "    return J_inv"
   ]
  },
  {
   "cell_type": "code",
   "execution_count": 9,
   "id": "92252ff4-1de7-495b-8ffc-5928d6975b3b",
   "metadata": {},
   "outputs": [],
   "source": [
    "xd = np.array([0.1372596 , 0.6, 0.09771239, 0.51844788, 0, 0.23289156])"
   ]
  },
  {
   "cell_type": "code",
   "execution_count": 10,
   "id": "ff5847e7-8a94-4fd1-bfe6-642b168b2c8d",
   "metadata": {},
   "outputs": [
    {
     "name": "stdout",
     "output_type": "stream",
     "text": [
      "The Jacobian Matrix is singular. Using Moore-Penrose pseudoinverse of matrix J!\n"
     ]
    }
   ],
   "source": [
    "J_inv = inv_jacob(q_values)"
   ]
  },
  {
   "cell_type": "code",
   "execution_count": 11,
   "id": "0d050401-4397-405a-8483-557bf624c8bf",
   "metadata": {},
   "outputs": [
    {
     "data": {
      "text/plain": [
       "array([[ 0.63900887,  0.36099113,  0.83930297, -0.83930297,  0.        ,\n",
       "         0.63900887],\n",
       "       [-0.18049557,  0.18049557, -0.49559238,  0.49559238,  0.        ,\n",
       "        -0.18049557],\n",
       "       [-0.7050647 , -0.37553991,  0.28938848,  0.20515839,  0.        ,\n",
       "         0.37553991],\n",
       "       [-0.18049557,  0.18049557, -0.49559238,  0.49559238,  0.        ,\n",
       "        -0.18049557],\n",
       "       [ 0.40975222,  0.09024778,  0.3703489 , -0.04930259,  0.        ,\n",
       "        -0.09024778],\n",
       "       [ 0.40975222,  0.09024778,  0.3703489 , -0.04930259,  0.        ,\n",
       "        -0.09024778]])"
      ]
     },
     "execution_count": 11,
     "metadata": {},
     "output_type": "execute_result"
    }
   ],
   "source": [
    "J_inv"
   ]
  },
  {
   "cell_type": "code",
   "execution_count": 12,
   "id": "b0a231e6-fbac-4e31-b195-349afe62494d",
   "metadata": {},
   "outputs": [],
   "source": [
    "qd = J_inv @ xd.T"
   ]
  },
  {
   "cell_type": "code",
   "execution_count": 13,
   "id": "2c7fbb78-736b-4945-9b38-29846a949f3d",
   "metadata": {},
   "outputs": [
    {
     "data": {
      "text/plain": [
       "array([ 0.10000001,  0.25      , -0.1       ,  0.25      ,  0.1       ,\n",
       "        0.1       ])"
      ]
     },
     "execution_count": 13,
     "metadata": {},
     "output_type": "execute_result"
    }
   ],
   "source": [
    "qd"
   ]
  },
  {
   "cell_type": "code",
   "execution_count": null,
   "id": "ffb8f103-09f9-40b5-8338-c83556e21ad7",
   "metadata": {},
   "outputs": [],
   "source": []
  },
  {
   "cell_type": "code",
   "execution_count": null,
   "id": "df6d51e5-5bda-4271-b869-e9598e373158",
   "metadata": {},
   "outputs": [],
   "source": []
  },
  {
   "cell_type": "code",
   "execution_count": null,
   "id": "a35a2691-7c0e-4c80-9846-b1ee4ce4f24c",
   "metadata": {},
   "outputs": [],
   "source": []
  },
  {
   "cell_type": "code",
   "execution_count": null,
   "id": "3c6d2a31-23fa-4db7-97b6-184b272c1a89",
   "metadata": {},
   "outputs": [],
   "source": []
  },
  {
   "cell_type": "code",
   "execution_count": null,
   "id": "ecded1e4-40fb-4c43-8bb3-9089cfacbea2",
   "metadata": {},
   "outputs": [],
   "source": []
  },
  {
   "cell_type": "code",
   "execution_count": null,
   "id": "a9f19c09-dea4-410f-9f4c-0bc25be1bd79",
   "metadata": {},
   "outputs": [],
   "source": []
  },
  {
   "cell_type": "code",
   "execution_count": null,
   "id": "51e35b2d-c4ee-42e9-a645-83db17e995ab",
   "metadata": {},
   "outputs": [],
   "source": []
  },
  {
   "cell_type": "code",
   "execution_count": null,
   "id": "f89af52c-e610-4aa3-a5f8-93d023b78a1c",
   "metadata": {},
   "outputs": [],
   "source": []
  },
  {
   "cell_type": "code",
   "execution_count": null,
   "id": "d5a052a1-3127-42ed-8100-ed916ad453b3",
   "metadata": {},
   "outputs": [],
   "source": []
  },
  {
   "cell_type": "code",
   "execution_count": null,
   "id": "c34cee6a-3637-4be0-b855-52c979fe1075",
   "metadata": {},
   "outputs": [],
   "source": []
  },
  {
   "cell_type": "code",
   "execution_count": null,
   "id": "96393d15-0d86-4cd0-9363-8f1e5e877a5f",
   "metadata": {},
   "outputs": [],
   "source": []
  },
  {
   "cell_type": "code",
   "execution_count": null,
   "id": "3abc1020-4db5-48ec-9b17-01c4a9b53631",
   "metadata": {},
   "outputs": [],
   "source": []
  },
  {
   "cell_type": "code",
   "execution_count": null,
   "id": "610ca848-0c57-4989-a40f-d0034d3621e8",
   "metadata": {},
   "outputs": [],
   "source": []
  },
  {
   "cell_type": "code",
   "execution_count": null,
   "id": "c535ee5b-6f4d-47f5-bee0-c0cc4a425608",
   "metadata": {},
   "outputs": [],
   "source": []
  },
  {
   "cell_type": "code",
   "execution_count": null,
   "id": "9f9d7793-8561-42ac-99d7-10413901b4fa",
   "metadata": {},
   "outputs": [],
   "source": []
  },
  {
   "cell_type": "code",
   "execution_count": null,
   "id": "44893b16-e3fb-463a-96d0-96381384bf95",
   "metadata": {},
   "outputs": [],
   "source": []
  },
  {
   "cell_type": "code",
   "execution_count": null,
   "id": "f1d15af9-2a34-4c01-bcea-b2570ac77365",
   "metadata": {},
   "outputs": [],
   "source": []
  },
  {
   "cell_type": "code",
   "execution_count": null,
   "id": "36efadfd-26a5-4de8-a3dd-600c59c7b86f",
   "metadata": {},
   "outputs": [],
   "source": []
  },
  {
   "cell_type": "code",
   "execution_count": null,
   "id": "b8a690d7-3e3c-415f-bcd9-4482cc74383f",
   "metadata": {},
   "outputs": [],
   "source": []
  },
  {
   "cell_type": "code",
   "execution_count": 5,
   "id": "7cb62bd6-1eaa-4f01-b1fd-92f3f02e525c",
   "metadata": {},
   "outputs": [],
   "source": [
    "# T_01 = cal_homo_trans_mat_0_to_n(1)\n",
    "# T_02 = cal_homo_trans_mat_0_to_n(2)\n",
    "# T_03 = cal_homo_trans_mat_0_to_n(3)\n",
    "# T_04 = cal_homo_trans_mat_0_to_n(4)\n",
    "# T_05 = cal_homo_trans_mat_0_to_n(5)\n",
    "# T_06 = cal_homo_trans_mat_0_to_n(6)"
   ]
  },
  {
   "cell_type": "code",
   "execution_count": 6,
   "id": "46fccf73-b46d-4144-89cf-3b99df9dea72",
   "metadata": {},
   "outputs": [],
   "source": [
    "# Z_00 = np.array([0, 0, 1])\n",
    "# Z_01 = T_01[:3,:3] @ np.array([0, 0, 1])\n",
    "# Z_02 = T_02[:3,:3] @ np.array([0, 0, 1])\n",
    "# Z_03 = T_03[:3,:3] @ np.array([0, 0, 1])\n",
    "# Z_04 = T_04[:3,:3] @ np.array([0, 0, 1])\n",
    "# Z_05 = T_05[:3,:3] @ np.array([0, 0, 1])\n",
    "# Z_06 = T_06[:3,:3] @ np.array([0, 0, 1])\n",
    "\n",
    "# P0 = np.array([0, 0, 0])\n",
    "# P1 = T_01[:3, 3]\n",
    "# P2 = T_02[:3, 3]\n",
    "# P3 = T_03[:3, 3]\n",
    "# P4 = T_04[:3, 3]\n",
    "# P5 = T_05[:3, 3]\n",
    "# P6 = T_06[:3, 3]"
   ]
  },
  {
   "cell_type": "code",
   "execution_count": null,
   "id": "524e2bf1-6cc1-4ce6-bbe9-5b75a5aae968",
   "metadata": {},
   "outputs": [],
   "source": [
    "# J_v = np.array([np.cross(Z_00, P6 - P0), \n",
    "#                 np.cross(Z_01, P6 - P1), \n",
    "#                 np.cross(Z_02, P6 - P2), \n",
    "#                 np.cross(Z_03, P6 - P3), \n",
    "#                 np.cross(Z_04, P6 - P4), \n",
    "#                 np.cross(Z_05, P6 - P5)])\n",
    "# J_w = np.array([Z_00, Z_01, Z_02, Z_03, Z_04, Z_05])\n",
    "# J = np.vstack([np.column_stack(J_v), np.column_stack(J_w)])"
   ]
  },
  {
   "cell_type": "code",
   "execution_count": null,
   "id": "72142c71-74be-4432-927f-2efe245dc4c2",
   "metadata": {},
   "outputs": [],
   "source": [
    "params = np.array([[0, a2, 0, 0, 0, 0], \n",
    "                  [np.pi/2, 0, np.pi/2, -np.pi/2, np.pi/2, 0], \n",
    "                  [d1, 0, 0, d4, 0, d6], \n",
    "                  [theta[0], theta[1], theta[2] + np.pi/2, theta[3], theta[4], theta[5]]])"
   ]
  },
  {
   "cell_type": "code",
   "execution_count": 16,
   "id": "a6c54813-ca4c-4ab3-9aae-d464db0faf0a",
   "metadata": {},
   "outputs": [],
   "source": []
  },
  {
   "cell_type": "code",
   "execution_count": 17,
   "id": "6ed9e835-698d-45cd-9111-d9b5295544c2",
   "metadata": {},
   "outputs": [
    {
     "data": {
      "text/plain": [
       "array([[ 0.        ,  0.        , -0.54030231,  0.        ,  0.41614684,\n",
       "         0.41614684],\n",
       "       [ 1.        ,  1.        ,  0.        ,  1.        ,  0.        ,\n",
       "         0.        ],\n",
       "       [ 0.        ,  0.        ,  0.84147098,  0.        ,  0.90929743,\n",
       "         0.90929743],\n",
       "       [ 0.        ,  0.84147098,  0.84147098,  0.84147098,  0.90929743,\n",
       "         0.90929743],\n",
       "       [ 0.        ,  0.        ,  0.        ,  0.        ,  0.        ,\n",
       "         0.        ],\n",
       "       [ 1.        ,  0.54030231,  0.54030231,  0.54030231, -0.41614684,\n",
       "        -0.41614684]])"
      ]
     },
     "execution_count": 17,
     "metadata": {},
     "output_type": "execute_result"
    }
   ],
   "source": [
    "cal_jacobian_mat(np.array([0.1, 0.2, -0.1, 0.3, 0.0, 0.2]))"
   ]
  },
  {
   "cell_type": "code",
   "execution_count": null,
   "id": "f8f12e5a-7af5-47b1-b178-58906df5a358",
   "metadata": {},
   "outputs": [],
   "source": []
  },
  {
   "cell_type": "code",
   "execution_count": 9,
   "id": "aa0ceb34-0289-47fc-a355-1948b13ac01c",
   "metadata": {},
   "outputs": [],
   "source": []
  },
  {
   "cell_type": "code",
   "execution_count": 10,
   "id": "101d7bf1-d446-4904-95d4-ab85a1ae8f38",
   "metadata": {},
   "outputs": [
    {
     "data": {
      "text/plain": [
       "numpy.ndarray"
      ]
     },
     "execution_count": 10,
     "metadata": {},
     "output_type": "execute_result"
    }
   ],
   "source": [
    "type(qd)"
   ]
  },
  {
   "cell_type": "code",
   "execution_count": 34,
   "id": "1fd61136-cde4-4a46-b4a3-0598880a26c6",
   "metadata": {},
   "outputs": [],
   "source": []
  },
  {
   "cell_type": "code",
   "execution_count": 35,
   "id": "4866f3bb-eb18-4ba9-a639-ad117587ca2e",
   "metadata": {},
   "outputs": [
    {
     "data": {
      "text/plain": [
       "array([-0.18751723, -0.07457943, -0.01298238, -0.12026682, -0.20893556,\n",
       "        0.55427828])"
      ]
     },
     "execution_count": 35,
     "metadata": {},
     "output_type": "execute_result"
    }
   ],
   "source": [
    "xd"
   ]
  },
  {
   "cell_type": "markdown",
   "id": "90aacecb-6387-4fca-8d00-984be310d6f0",
   "metadata": {},
   "source": [
    "<font size=\"3\">\n",
    "Inverse velocity kinematics\n",
    "</font>\n",
    "\n",
    "(Given desired end-effector velocity, compute joint velocities)\n",
    "\n",
    "$\\dot{q} = J^{+}\\dot{x}$, where $J^{+} = J^{T}(JJ^{T})^{-1}$ is the Moore-Penrose pseudoinverse of matrix J."
   ]
  },
  {
   "cell_type": "code",
   "execution_count": null,
   "id": "454d1c89-0081-4c0e-9748-ae278dc52b08",
   "metadata": {},
   "outputs": [],
   "source": [
    "def inv_jacob(q):\n",
    "    ''''''\n",
    "    J = cal_jacobian_mat(q)\n",
    "    if J.shape[0] == J.shape[1] and np.linalg.det(J) != 0:\n",
    "        J_inv = np.linalg.inv(J)\n",
    "    else:\n",
    "        print(\"The Jacobian Matrix isn't singular. Using Moore-Penrose pseudoinverse of matrix J!\")\n",
    "        J_inv = np.linalg.pinv(J)\n",
    "\n",
    "    return J_inv"
   ]
  },
  {
   "cell_type": "code",
   "execution_count": 72,
   "id": "4878778e-bfcc-43d3-97c9-af8f5370d43d",
   "metadata": {},
   "outputs": [
    {
     "name": "stdout",
     "output_type": "stream",
     "text": [
      "The matrix is singular.\n"
     ]
    }
   ],
   "source": [
    "det = np.linalg.det(J)\n",
    "if np.isclose(det, 0):\n",
    "    print(\"The matrix is singular.\")\n",
    "else:\n",
    "    print(\"The matrix is not singular.\")"
   ]
  },
  {
   "cell_type": "code",
   "execution_count": 73,
   "id": "bafc4524-117e-478f-8bbe-41498324431d",
   "metadata": {},
   "outputs": [],
   "source": [
    "qd = np.linalg.pinv(J) @ xd"
   ]
  },
  {
   "cell_type": "code",
   "execution_count": 74,
   "id": "1fe24aab-56b0-47e9-afe1-272f8e8d2543",
   "metadata": {},
   "outputs": [
    {
     "data": {
      "text/plain": [
       "array([ 1.00000000e-01,  2.00000000e-01, -1.00000000e-01,  2.50000000e-01,\n",
       "       -6.10622664e-16,  2.50000000e-01])"
      ]
     },
     "execution_count": 74,
     "metadata": {},
     "output_type": "execute_result"
    }
   ],
   "source": [
    "qd"
   ]
  },
  {
   "cell_type": "code",
   "execution_count": null,
   "id": "90dc81f0-5306-4807-a15f-4c63551909f4",
   "metadata": {},
   "outputs": [],
   "source": [
    "# J = np.block([[np.cross(Z_00, P6 - P0), Z_00], [np.cross(Z_01, P6 - P1), Z_01], [np.cross(Z_02, P6 - P2), Z_02], [np.cross(Z_03, P6 - P3), Z_03], [np.cross(Z_04, P6 - P4), Z_04], [np.cross(Z_05, P6 - P5), Z_05]])"
   ]
  },
  {
   "cell_type": "code",
   "execution_count": 5,
   "id": "3cae170b-d847-4ec7-81e7-2f948e897053",
   "metadata": {},
   "outputs": [],
   "source": [
    "import sympy as sp\n",
    "import numpy as np"
   ]
  },
  {
   "cell_type": "code",
   "execution_count": 2,
   "id": "6c8383c9-a0af-485a-9c01-9a94b5d6e906",
   "metadata": {},
   "outputs": [],
   "source": [
    "def symht(q, d, a, alpha):\n",
    "    c_q = sp.cos(q)\n",
    "    s_q = sp.sin(q)\n",
    "    c_alpha = sp.cos(alpha)\n",
    "    s_alpha = sp.sin(alpha)\n",
    "\n",
    "    T = sp.Matrix([\n",
    "        [c_q, -s_q * c_alpha, s_q * s_alpha, a * c_q],\n",
    "        [s_q, c_q * c_alpha, -c_q * s_alpha, a * s_q],\n",
    "        [0, s_alpha, c_alpha, d],\n",
    "        [0, 0, 0, 1]\n",
    "    ])\n",
    "    return T"
   ]
  },
  {
   "cell_type": "code",
   "execution_count": 7,
   "id": "877649ff-dcba-4ef8-8eeb-104d8c1f6638",
   "metadata": {},
   "outputs": [],
   "source": [
    "def jacob(q):\n",
    "    # Define symbolic variables\n",
    "    q1, q2, q3, q4, q5, q6 = sp.symbols('q1 q2 q3 q4 q5 q6')\n",
    "    q_sym = [q1, q2, q3, q4, q5, q6]\n",
    "\n",
    "    a = [0, 1, 0, 0, 0, 0]\n",
    "    d = [1, 0, 0, 1, 0, 1]\n",
    "    alpha = [sp.pi/2, 0, sp.pi/2, -sp.pi/2, sp.pi/2, 0]\n",
    "\n",
    "    # Compute transformation matrices\n",
    "    T00 = sp.eye(4)\n",
    "    T01 = symht(q1, d[0], a[0], alpha[0])\n",
    "    T12 = symht(q2, d[1], a[1], alpha[1])\n",
    "    T23 = symht(q3, d[2], a[2], alpha[2])\n",
    "    T34 = symht(q4, d[3], a[3], alpha[3])\n",
    "    T45 = symht(q5, d[4], a[4], alpha[4])\n",
    "    T56 = symht(q6, d[5], a[5], alpha[5])\n",
    "\n",
    "    T02 = T01 * T12\n",
    "    T03 = T02 * T23\n",
    "    T04 = T03 * T34\n",
    "    T05 = T04 * T45\n",
    "    T06 = T05 * T56\n",
    "\n",
    "    # Extract z vectors for rotation axes\n",
    "    z0 = T00[0:3, 2]\n",
    "    z1 = T01[0:3, 2]\n",
    "    z2 = T02[0:3, 2]\n",
    "    z3 = T03[0:3, 2]\n",
    "    z4 = T04[0:3, 2]\n",
    "    z5 = T05[0:3, 2]\n",
    "\n",
    "    # Compute position vectors\n",
    "    p06 = T06[0:3, 3]\n",
    "\n",
    "    # Compute Jacobian columns\n",
    "    j1 = sp.Matrix.vstack(sp.diff(p06, q1), z0)\n",
    "    j2 = sp.Matrix.vstack(sp.diff(p06, q2), z1)\n",
    "    j3 = sp.Matrix.vstack(sp.diff(p06, q3), z2)\n",
    "    j4 = sp.Matrix.vstack(sp.diff(p06, q4), z3)\n",
    "    j5 = sp.Matrix.vstack(sp.diff(p06, q5), z4)\n",
    "    j6 = sp.Matrix.vstack(sp.diff(p06, q6), z5)\n",
    "\n",
    "    # Assemble Jacobian Matrix\n",
    "    J = sp.Matrix.hstack(j1, j2, j3, j4, j5, j6)\n",
    "\n",
    "    # Substitute numerical values of joint angles\n",
    "    J_numeric = J.subs({q_sym[i]: q[i] for i in range(6)})\n",
    "\n",
    "    # Convert symbolic Jacobian to numeric\n",
    "    J_numeric = np.array(J_numeric).astype(np.float64)\n",
    "\n",
    "    return J_numeric"
   ]
  },
  {
   "cell_type": "code",
   "execution_count": 10,
   "id": "94ab7e42-a840-440c-b497-9abddccf0407",
   "metadata": {},
   "outputs": [
    {
     "name": "stdout",
     "output_type": "stream",
     "text": [
      "[[ 0.2979569  -1.54709575 -0.55209158  0.14097212 -0.36811249  0.        ]\n",
      " [ 1.83262468 -0.15522734 -0.05539393  0.01414439 -0.91892328  0.        ]\n",
      " [ 0.          1.79372313  1.79372313 -0.45801271 -0.14167993  0.        ]\n",
      " [ 0.          0.09983342  0.09983342  0.95056379  0.29404384  0.88206089]\n",
      " [ 0.         -0.99500417 -0.99500417  0.09537451  0.02950279 -0.3933314 ]\n",
      " [ 1.          0.          0.          0.29552021 -0.95533649  0.25934338]]\n"
     ]
    }
   ],
   "source": [
    "q_values = [0.1, np.pi/2, 0.3, np.pi/2, 0.5, 0.6]\n",
    "J = jacob(q_values)\n",
    "print(J)"
   ]
  },
  {
   "cell_type": "code",
   "execution_count": null,
   "id": "43e5dc64-d486-4093-b2cc-b4dfe241d0a4",
   "metadata": {},
   "outputs": [],
   "source": [
    "a2 = 1\n",
    "d1, d4, d6 = 1, 1, 1\n",
    "#theta = [np.pi/3, np.pi/2, np.pi/4, np.pi/3, 0, np.pi]\n",
    "theta = [0.1, np.pi/2, 0.3, np.pi/2, 0.5, 0.6]\n",
    "params = np.array([[0, a2, 0, 0, 0, 0], \n",
    "                  [np.pi/2, 0, np.pi/2, -np.pi/2, np.pi/2, 0], \n",
    "                  [d1, 0, 0, d4, 0, d6], \n",
    "                  [theta[0], theta[1], theta[2] + np.pi/2, theta[3], theta[4], theta[5]]])\n",
    "# params = np.array([[0, a2, 0, 0, 0, 0], \n",
    "#                   [np.pi/2, 0, np.pi/2, -np.pi/2, np.pi/2, 0], \n",
    "#                   [d1, 0, 0, d4, 0, d6], \n",
    "#                   [theta[0], theta[1], theta[2], theta[3], theta[4], theta[5]]])"
   ]
  },
  {
   "cell_type": "code",
   "execution_count": null,
   "id": "f366c30f-2a78-4149-b0b0-f4bfd2a0f897",
   "metadata": {},
   "outputs": [],
   "source": [
    "def homo_trans_mat(a:float, alpha:float, d:float, theta:float) -> np.ndarray:\n",
    "    c_theta = 0 if (theta == np.pi/2 or theta == -np.pi/2) else np.cos(theta)\n",
    "    c_alpha = 0 if (alpha == np.pi/2 or alpha == -np.pi/2) else np.cos(alpha)\n",
    "    \n",
    "    return np.array([[c_theta, -np.sin(theta)*c_alpha, np.sin(theta)*np.sin(alpha), a*c_theta], \n",
    "                     [np.sin(theta), c_theta*c_alpha, -c_theta*np.sin(alpha), a*np.sin(theta)], \n",
    "                     [0, np.sin(alpha), c_alpha, d], \n",
    "                     [0, 0, 0, 1]])"
   ]
  },
  {
   "cell_type": "code",
   "execution_count": null,
   "id": "86814d39-24d7-40f9-9d31-a714eed77951",
   "metadata": {},
   "outputs": [],
   "source": [
    "# def cal_homo_trans_mat_0_to_n(n:int) -> np.ndarray:\n",
    "#     '''calculate homogeneous transformation matrix of nth frame w.r.t. base(0th frame)\n",
    "#     '''\n",
    "#     T = np.eye(4)\n",
    "#     for i in range(n):\n",
    "#         T = T @ homo_trans_mat(params[:, i][0], params[:, i][1], params[:, i][2], params[:, i][3])\n",
    "#     return T"
   ]
  },
  {
   "cell_type": "code",
   "execution_count": null,
   "id": "2bfc2bc1-b480-487f-9f8b-81c47ba881ee",
   "metadata": {},
   "outputs": [],
   "source": [
    "def cal_jacobian_mat(params:np.ndarray) -> np.ndarray:\n",
    "    \"\"\"\n",
    "    Compute the Jacobian Matrix\n",
    "    \n",
    "    :param params: DH parameters table\n",
    "    :\n",
    "    :return J: Jacobian Matrix\n",
    "    :rtype: numpy.ndarray\n",
    "    \"\"\"\n",
    "    Z_0i = [np.array([0, 0, 1])]  # initialized with Z_00\n",
    "    Pi = [np.array([0, 0, 0])]    # initialized with P0\n",
    "    \n",
    "    T = np.eye(4)\n",
    "    \n",
    "    i = 0\n",
    "    while (i < 6):\n",
    "        T = T @ homo_trans_mat(params[:, i][0], params[:, i][1], params[:, i][2], params[:, i][3])\n",
    "        #Z_0i.append(T[:3,:3] @ np.array([0, 0, 1]))\n",
    "        Z_0i.append(T[:3, 2])     # extracting z-axis\n",
    "        Pi.append(T[:3, 3])       # extracting position    \n",
    "    \n",
    "        i += 1\n",
    "\n",
    "    J_v = np.array([np.cross(Z_0i[i], Pi[-1] - Pi[i]) for i in range(6)])\n",
    "    J_w = np.array(Z_0i[:-1])\n",
    "    \n",
    "    J = np.vstack([np.column_stack(J_v), np.column_stack(J_w)])\n",
    "\n",
    "    return J"
   ]
  }
 ],
 "metadata": {
  "kernelspec": {
   "display_name": "Python 3 (ipykernel)",
   "language": "python",
   "name": "python3"
  },
  "language_info": {
   "codemirror_mode": {
    "name": "ipython",
    "version": 3
   },
   "file_extension": ".py",
   "mimetype": "text/x-python",
   "name": "python",
   "nbconvert_exporter": "python",
   "pygments_lexer": "ipython3",
   "version": "3.10.12"
  }
 },
 "nbformat": 4,
 "nbformat_minor": 5
}
