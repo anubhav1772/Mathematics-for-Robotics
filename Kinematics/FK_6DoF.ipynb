{
 "cells": [
  {
   "cell_type": "markdown",
   "id": "a2d28e0d-1572-410f-8d11-cdc98bc41ad8",
   "metadata": {},
   "source": [
    "<font size=\"5\" color=\"yellow\">\n",
    "Forward Kinematics\n",
    "</font>\n",
    "\n",
    "\n",
    "\n",
    "<font size=\"2.5\">\n",
    "<p>The forward kinematics (FK) represents calculation of the coordinates of the tool frame (its position and orientation) given the configuration of the robot.\n",
    "</p>\n",
    "</font>"
   ]
  },
  {
   "cell_type": "code",
   "execution_count": 1,
   "id": "7143575d-ec1f-4ed9-a5a4-de714cb005df",
   "metadata": {},
   "outputs": [],
   "source": [
    "import numpy as np\n",
    "import math"
   ]
  },
  {
   "cell_type": "markdown",
   "id": "e41d29b6-35ff-4772-b167-199638569e39",
   "metadata": {},
   "source": [
    "<table>\n",
    "  <tr>\n",
    "    <td>\n",
    "        <img src=\"images/frameAssign.jpg\" width = \"600\" height = \"300\"/> </td>\n",
    "        <td><img src=\"images/DHparamsTable.jpg\" width = \"500\" height = \"300\"/></td>\n",
    "  </tr>\n",
    " </table>"
   ]
  },
  {
   "cell_type": "markdown",
   "id": "12afd217-ffee-427b-9719-a901c49f5ca8",
   "metadata": {},
   "source": [
    "<table>\n",
    "  <tr>\n",
    "    <td>\n",
    "        <img src=\"images/dhtable.png\" width = \"600\" height = \"300\"/> </td>\n",
    "        <td><img src=\"images/dhparams-meaning.png\" width = \"500\" height = \"300\"/></td>\n",
    "  </tr>\n",
    " </table>"
   ]
  },
  {
   "cell_type": "code",
   "execution_count": 2,
   "id": "153dab6b-ffa9-4b8b-88da-908da2241c2a",
   "metadata": {},
   "outputs": [],
   "source": [
    "a2 = 1\n",
    "d1, d4, d6 = 1, 1, 1\n",
    "#theta = [0.1, 0.2, 0.3, 0., 0., -1.04719755]\n",
    "theta = [0.1, 0.2, 0.3, 0.4, 0.5, 0.6]\n",
    "params = np.array([[0, a2, 0, 0, 0, 0], \n",
    "                  [np.pi/2, 0, np.pi/2, -np.pi/2, np.pi/2, 0], \n",
    "                  [d1, 0, 0, d4, 0, d6], \n",
    "                  [theta[0], theta[1], theta[2] + np.pi/2, theta[3], theta[4], theta[5]]])"
   ]
  },
  {
   "cell_type": "code",
   "execution_count": 3,
   "id": "27e4e286-69f5-4ea9-98ac-d379497494c9",
   "metadata": {},
   "outputs": [
    {
     "data": {
      "text/plain": [
       "array([[ 0.        ,  1.        ,  0.        ,  0.        ,  0.        ,\n",
       "         0.        ],\n",
       "       [ 1.57079633,  0.        ,  1.57079633, -1.57079633,  1.57079633,\n",
       "         0.        ],\n",
       "       [ 1.        ,  0.        ,  0.        ,  1.        ,  0.        ,\n",
       "         1.        ],\n",
       "       [ 0.1       ,  0.2       ,  1.87079633,  0.4       ,  0.5       ,\n",
       "         0.6       ]])"
      ]
     },
     "execution_count": 3,
     "metadata": {},
     "output_type": "execute_result"
    }
   ],
   "source": [
    "params "
   ]
  },
  {
   "cell_type": "markdown",
   "id": "647d5674-62eb-4c4b-a2d3-a2a3a0cea2ab",
   "metadata": {},
   "source": [
    "\n",
    "<table>\n",
    "  <tr>\n",
    "    <td>\n",
    "        <img src=\"images/htm.png\" width = \"800\" height = \"300\"/> </td>\n",
    "  </tr>\n",
    " </table>"
   ]
  },
  {
   "cell_type": "code",
   "execution_count": 4,
   "id": "e7635009-2f06-474c-9bad-cdb6e7634fc5",
   "metadata": {},
   "outputs": [],
   "source": [
    "def homo_trans_mat(a:float, alpha:float, d:float, theta:float) -> np.ndarray:\n",
    "    '''compute homogeneous transformation matrix of ith link w.r.t. (i-1)th link based on DH parameters table\n",
    "    '''\n",
    "    c_theta = 0 if (theta == np.pi/2 or theta == -np.pi/2) else np.cos(theta)\n",
    "    c_alpha = 0 if (alpha == np.pi/2 or alpha == -np.pi/2) else np.cos(alpha)\n",
    "    \n",
    "    return np.array([[c_theta, -np.sin(theta)*c_alpha, np.sin(theta)*np.sin(alpha), a*c_theta], \n",
    "                     [np.sin(theta), c_theta*c_alpha, -c_theta*np.sin(alpha), a*np.sin(theta)], \n",
    "                     [0, np.sin(alpha), c_alpha, d], \n",
    "                     [0, 0, 0, 1]])"
   ]
  },
  {
   "cell_type": "code",
   "execution_count": 5,
   "id": "db37836b-8a6a-461d-81cc-576fa55932c4",
   "metadata": {},
   "outputs": [
    {
     "name": "stdout",
     "output_type": "stream",
     "text": [
      "[[ 0.99500417 -0.          0.09983342  0.        ]\n",
      " [ 0.09983342  0.         -0.99500417  0.        ]\n",
      " [ 0.          1.          0.          1.        ]\n",
      " [ 0.          0.          0.          1.        ]]\n",
      "[[ 0.98006658 -0.19866933  0.          0.98006658]\n",
      " [ 0.19866933  0.98006658 -0.          0.19866933]\n",
      " [ 0.          0.          1.          0.        ]\n",
      " [ 0.          0.          0.          1.        ]]\n",
      "[[-0.29552021 -0.          0.95533649 -0.        ]\n",
      " [ 0.95533649 -0.          0.29552021  0.        ]\n",
      " [ 0.          1.          0.          0.        ]\n",
      " [ 0.          0.          0.          1.        ]]\n",
      "[[ 0.92106099 -0.         -0.38941834  0.        ]\n",
      " [ 0.38941834  0.          0.92106099  0.        ]\n",
      " [ 0.         -1.          0.          1.        ]\n",
      " [ 0.          0.          0.          1.        ]]\n",
      "[[ 0.87758256 -0.          0.47942554  0.        ]\n",
      " [ 0.47942554  0.         -0.87758256  0.        ]\n",
      " [ 0.          1.          0.          0.        ]\n",
      " [ 0.          0.          0.          1.        ]]\n",
      "[[ 0.82533561 -0.56464247  0.          0.        ]\n",
      " [ 0.56464247  0.82533561 -0.          0.        ]\n",
      " [ 0.          0.          1.          1.        ]\n",
      " [ 0.          0.          0.          1.        ]]\n"
     ]
    }
   ],
   "source": [
    "for i in range(6):\n",
    "    print(homo_trans_mat(params[:, i][0], params[:, i][1], params[:, i][2], params[:, i][3]))"
   ]
  },
  {
   "cell_type": "code",
   "execution_count": 6,
   "id": "426f41a2-6205-4d43-b723-569f904c0179",
   "metadata": {},
   "outputs": [],
   "source": [
    "# n = degree of freedom of the robotic arm\n",
    "n = 6 \n",
    "T_06 = np.eye(4)\n",
    "for i in range(n):\n",
    "        T_06 = T_06 @ homo_trans_mat(params[:, i][0], params[:, i][1], params[:, i][2], params[:, i][3])"
   ]
  },
  {
   "cell_type": "code",
   "execution_count": 7,
   "id": "4b133ef4-972b-4740-96d1-08a0c3c001d0",
   "metadata": {},
   "outputs": [
    {
     "data": {
      "text/plain": [
       "array([[-0.47878248,  0.66404257,  0.57429505,  2.42266368],\n",
       "       [-0.85419181, -0.50344118, -0.13001278,  0.05544268],\n",
       "       [ 0.20278976, -0.55280597,  0.80825854,  2.48635341],\n",
       "       [ 0.        ,  0.        ,  0.        ,  1.        ]])"
      ]
     },
     "execution_count": 7,
     "metadata": {},
     "output_type": "execute_result"
    }
   ],
   "source": [
    "T_06"
   ]
  },
  {
   "cell_type": "code",
   "execution_count": 74,
   "id": "79f43b4c-cecf-4c7a-b258-bb5d77dc8f8f",
   "metadata": {},
   "outputs": [
    {
     "data": {
      "text/plain": [
       "array([2.42266368, 0.05544268, 2.48635341])"
      ]
     },
     "execution_count": 74,
     "metadata": {},
     "output_type": "execute_result"
    }
   ],
   "source": [
    "T_06[:3,3]"
   ]
  },
  {
   "cell_type": "code",
   "execution_count": 8,
   "id": "0237981b-25e0-437e-ac6b-488e171fcc62",
   "metadata": {},
   "outputs": [],
   "source": [
    "R_06 = T_06[:3, :3]"
   ]
  },
  {
   "cell_type": "code",
   "execution_count": 9,
   "id": "265a287d-ba03-4b32-9043-eb5ad8406771",
   "metadata": {},
   "outputs": [
    {
     "data": {
      "text/plain": [
       "array([[-0.47878248,  0.66404257,  0.57429505],\n",
       "       [-0.85419181, -0.50344118, -0.13001278],\n",
       "       [ 0.20278976, -0.55280597,  0.80825854]])"
      ]
     },
     "execution_count": 9,
     "metadata": {},
     "output_type": "execute_result"
    }
   ],
   "source": [
    "R_06"
   ]
  },
  {
   "cell_type": "markdown",
   "id": "cd47c488-baf1-4c86-bacf-2a29ff606a53",
   "metadata": {},
   "source": [
    "<table>\n",
    "  <tr>\n",
    "        <td><img src=\"images/ZYZ.png\" width = \"600\" height = \"300\"/></td>\n",
    "  </tr>\n",
    " </table>"
   ]
  },
  {
   "cell_type": "markdown",
   "id": "df800468-ebac-45a7-93c4-d4de4b700488",
   "metadata": {},
   "source": [
    "<font size=\"5\" color=\"yellow\">Case 1: When $r_{33}(q) \\neq \\pm 1$</font>\n",
    "\n",
    "<table>        \n",
    "<tr><td><img src=\"images/1.png\" width = \"500\" height = \"300\"/></td></tr>\n",
    "<tr><td><img src=\"images/2.png\" width = \"500\" height = \"300\"/></td></tr>\n",
    "<tr><td><img src=\"images/3.png\" width = \"500\" height = \"300\"/></td></tr>\n",
    "<tr><td><img src=\"images/4.png\" width = \"500\" height = \"300\"/></td></tr>\n",
    "</table>"
   ]
  },
  {
   "cell_type": "markdown",
   "id": "38e130c4-69af-434d-a08e-fd64e0edee01",
   "metadata": {},
   "source": [
    "<font size=\"5\" color=\"yellow\">Case 2: When $r_{33}(q)=1$:</font>\n",
    "\n",
    "<font size=\"3\">$\\theta(q) = 0$, but there is uncertainty in the values of $\\phi(q)$ and $\\psi(q)$.</font>\n",
    "\n",
    "<font size=\"5\" color=\"yellow\">Case 3: When $r_{33}(q)=-1$:</font>\n",
    "\n",
    "<font size=\"3\">$\\theta(q) = \\pi$, but there is uncertainty in the values of $\\phi(q)$ and $\\psi(q)$.</font>"
   ]
  },
  {
   "cell_type": "code",
   "execution_count": 10,
   "id": "20dad587-73eb-4d30-8426-b34c8c60a732",
   "metadata": {},
   "outputs": [
    {
     "name": "stdout",
     "output_type": "stream",
     "text": [
      "2.422663680622242,0.05544267656769389,2.4863534126490863,-0.22263396888436274,0.6296077413830932, -1.9223913750523003\n",
      "2.422663680622242,0.05544267656769389,2.4863534126490863,-12.755986793320877,36.07386633001546, -110.14491236284775\n",
      "2.422663680622242,0.05544267656769389,2.4863534126490863,-0.22263396888436274,-0.6296077413830932, -1.219201278537493\n",
      "2.422663680622242,0.05544267656769389,2.4863534126490863,-12.755986793320877,-36.07386633001546, -69.85508763715227\n"
     ]
    }
   ],
   "source": [
    "if (R_06[2][2] != 1 or R_06[2][2] != -1):\n",
    "    sin_thetaQ = np.sqrt(1 - R_06[2][2]**2)\n",
    "\n",
    "    theta_1 = np.arctan2(sin_thetaQ, R_06[2][2])\n",
    "    phi_1 = np.arctan2(R_06[1][2], R_06[0][2])\n",
    "    psi_1 = np.arctan2(R_06[2][1], -R_06[2][0])\n",
    "    print(str(T_06[:3,3][0]) + \",\" + str(T_06[:3,3][1]) + \",\" + str(T_06[:3,3][2]) + \",\" + str(phi_1)+','+str(theta_1)+', '+str(psi_1))\n",
    "    print(str(T_06[:3,3][0]) + \",\" + str(T_06[:3,3][1]) + \",\" + str(T_06[:3,3][2]) + \",\" + str(math.degrees(phi_1))+','+str(math.degrees(theta_1))+', '+str(math.degrees(psi_1)))\n",
    "\n",
    "    theta_2 = np.arctan2(-sin_thetaQ, R_06[2][2])\n",
    "    phi_2 = np.arctan2(R_06[1][2], R_06[0][2])\n",
    "    psi_2 = np.arctan2(R_06[2][1], R_06[2][0])\n",
    "    print(str(T_06[:3,3][0]) + \",\" + str(T_06[:3,3][1]) + \",\" + str(T_06[:3,3][2]) + \",\" + str(phi_2)+','+str(theta_2)+', '+str(psi_2))\n",
    "    print(str(T_06[:3,3][0]) + \",\" + str(T_06[:3,3][1]) + \",\" + str(T_06[:3,3][2]) + \",\" + str(math.degrees(phi_2))+','+str(math.degrees(theta_2))+', '+str(math.degrees(psi_2)))\n",
    "else:\n",
    "    print('Case leads to Uncertainty! Try a different configuration.') "
   ]
  },
  {
   "cell_type": "code",
   "execution_count": null,
   "id": "836f6178-d0d8-484f-b4a6-e223f31f4a34",
   "metadata": {},
   "outputs": [],
   "source": []
  },
  {
   "cell_type": "code",
   "execution_count": null,
   "id": "1c7be9b8-6e17-4d5c-a791-2984193046f2",
   "metadata": {},
   "outputs": [],
   "source": []
  },
  {
   "cell_type": "code",
   "execution_count": null,
   "id": "2401e942-816f-4711-803e-aec34ee1bddc",
   "metadata": {},
   "outputs": [],
   "source": []
  },
  {
   "cell_type": "code",
   "execution_count": null,
   "id": "cccbeb90-edd4-4920-bc50-9c464e673e89",
   "metadata": {},
   "outputs": [],
   "source": []
  },
  {
   "cell_type": "code",
   "execution_count": null,
   "id": "73da3222-3328-43df-b919-39b1542faf62",
   "metadata": {},
   "outputs": [],
   "source": []
  },
  {
   "cell_type": "code",
   "execution_count": null,
   "id": "8cf3d32c-2343-4a7b-9776-620f28ea0190",
   "metadata": {},
   "outputs": [],
   "source": []
  },
  {
   "cell_type": "code",
   "execution_count": null,
   "id": "b298afeb-8d06-45d0-a5f0-c5be700c9c06",
   "metadata": {},
   "outputs": [],
   "source": []
  },
  {
   "cell_type": "code",
   "execution_count": null,
   "id": "356d822d-b6d4-4e88-9264-7df8540c29fc",
   "metadata": {},
   "outputs": [],
   "source": []
  },
  {
   "cell_type": "code",
   "execution_count": null,
   "id": "7e7d4217-ce2d-4b26-8457-70fd045b9fee",
   "metadata": {},
   "outputs": [],
   "source": []
  },
  {
   "cell_type": "code",
   "execution_count": null,
   "id": "d5f51e11-e5ea-43d9-947e-e06e7a36316c",
   "metadata": {},
   "outputs": [],
   "source": []
  },
  {
   "cell_type": "code",
   "execution_count": null,
   "id": "75395471-4479-4e45-bb04-dce3b8a52bff",
   "metadata": {},
   "outputs": [],
   "source": []
  },
  {
   "cell_type": "code",
   "execution_count": null,
   "id": "6dd88e3a-ee0d-4414-97f0-8b150f213623",
   "metadata": {},
   "outputs": [],
   "source": []
  },
  {
   "cell_type": "code",
   "execution_count": null,
   "id": "c2538df6-0cac-4e7c-be85-4874db38a3ab",
   "metadata": {},
   "outputs": [],
   "source": []
  },
  {
   "cell_type": "code",
   "execution_count": null,
   "id": "8057c0f0-7329-45ff-955f-26737d3eff72",
   "metadata": {},
   "outputs": [],
   "source": []
  },
  {
   "cell_type": "code",
   "execution_count": null,
   "id": "43b7e616-e256-43fd-9f93-8794137ad66f",
   "metadata": {},
   "outputs": [],
   "source": [
    "def testhm(q, d, a, alpha):\n",
    "    c_q = 0 if (q == np.pi/2 or q == -np.pi/2) else np.cos(q)\n",
    "    alpha_q = 0 if (alpha == np.pi/2 or alpha == -np.pi/2) else np.cos(alpha)\n",
    "\n",
    "    T1 = np.array([\n",
    "        [c_q, -np.sin(q), 0, 0],\n",
    "        [np.sin(q), c_q, 0, 0],\n",
    "        [0, 0, 1, 0],\n",
    "        [0, 0, 0, 1]\n",
    "    ])\n",
    "\n",
    "    T2 = np.block([\n",
    "        [np.eye(3), np.array([[0], [0], [d]])],\n",
    "        [np.zeros((1, 3)), 1]\n",
    "    ])\n",
    "\n",
    "    T3 = np.block([\n",
    "        [np.eye(3), np.array([[a], [0], [0]])],\n",
    "        [np.zeros((1, 3)), 1]\n",
    "    ])\n",
    "\n",
    "    T4 = np.array([\n",
    "        [1, 0, 0, 0],\n",
    "        [0, alpha_q, -np.sin(alpha), 0],\n",
    "        [0, np.sin(alpha), alpha_q, 0],\n",
    "        [0, 0, 0, 1]\n",
    "    ])\n",
    "\n",
    "    T = T1 @ T2 @ T3 @ T4\n",
    "\n",
    "    return T   "
   ]
  },
  {
   "cell_type": "code",
   "execution_count": null,
   "id": "07d008ab-2f6e-495d-9655-8ed1edd88a72",
   "metadata": {},
   "outputs": [],
   "source": [
    "T = np.eye(4)\n",
    "for i in range(6):\n",
    "    T = T @ testhm(params[:, i][3], params[:, i][2], params[:, i][0], params[:, i][1])\n",
    "\n",
    "print(T)"
   ]
  }
 ],
 "metadata": {
  "kernelspec": {
   "display_name": "Python 3 (ipykernel)",
   "language": "python",
   "name": "python3"
  },
  "language_info": {
   "codemirror_mode": {
    "name": "ipython",
    "version": 3
   },
   "file_extension": ".py",
   "mimetype": "text/x-python",
   "name": "python",
   "nbconvert_exporter": "python",
   "pygments_lexer": "ipython3",
   "version": "3.10.12"
  }
 },
 "nbformat": 4,
 "nbformat_minor": 5
}
